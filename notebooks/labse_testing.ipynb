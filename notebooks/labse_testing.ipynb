{
  "nbformat": 4,
  "nbformat_minor": 0,
  "metadata": {
    "colab": {
      "name": "labse_testing.ipynb",
      "provenance": [],
      "collapsed_sections": []
    },
    "kernelspec": {
      "name": "python3",
      "display_name": "Python 3"
    },
    "accelerator": "GPU"
  },
  "cells": [
    {
      "cell_type": "code",
      "metadata": {
        "id": "gy4kI_J_QP6d",
        "colab": {
          "base_uri": "https://localhost:8080/"
        },
        "outputId": "cfbfa6a2-b812-4937-dee1-6ef12b0ce7ed"
      },
      "source": [
        "from google.colab import drive\n",
        "drive.mount('/content/drive')"
      ],
      "execution_count": 1,
      "outputs": [
        {
          "output_type": "stream",
          "name": "stdout",
          "text": [
            "Drive already mounted at /content/drive; to attempt to forcibly remount, call drive.mount(\"/content/drive\", force_remount=True).\n"
          ]
        }
      ]
    },
    {
      "cell_type": "code",
      "metadata": {
        "id": "n4FSaYEgiXPW"
      },
      "source": [
        "import warnings\n",
        "warnings.filterwarnings(\"ignore\")\n",
        " \n",
        "import numpy as np\n",
        "import pandas as pd\n",
        "import statistics\n",
        "import matplotlib.pyplot as plt\n",
        "import seaborn as sns\n",
        "import pandas_profiling\n",
        "import math\n",
        "import time\n",
        "%matplotlib inline"
      ],
      "execution_count": 3,
      "outputs": []
    },
    {
      "cell_type": "markdown",
      "source": [
        "**Знакомимся с LaBSE-en-ru**"
      ],
      "metadata": {
        "id": "QQ7yRjkunbZ8"
      }
    },
    {
      "cell_type": "code",
      "source": [
        "pip install transformers"
      ],
      "metadata": {
        "id": "FMwr3qVAnq7i"
      },
      "execution_count": null,
      "outputs": []
    },
    {
      "cell_type": "code",
      "source": [
        "import torch\n",
        "from transformers import AutoTokenizer, AutoModel\n",
        "tokenizer = AutoTokenizer.from_pretrained(\"cointegrated/LaBSE-en-ru\")\n",
        "model = AutoModel.from_pretrained(\"cointegrated/LaBSE-en-ru\")\n",
        "sentences = [\"Hello Word\", \"Привет Мир\", \"Raz D\", \"Раз Д\"]\n",
        "encoded_input = tokenizer(sentences, padding=True, truncation=True, max_length=64, return_tensors='pt')\n",
        "with torch.no_grad():\n",
        "    model_output = model(**encoded_input)\n",
        "embeddings = model_output.pooler_output\n",
        "embeddings = torch.nn.functional.normalize(embeddings)\n",
        "print(embeddings)"
      ],
      "metadata": {
        "colab": {
          "base_uri": "https://localhost:8080/"
        },
        "id": "IAR-UWCXmZg-",
        "outputId": "d7d02b14-029c-4c74-fb87-5f471ce7258f"
      },
      "execution_count": 6,
      "outputs": [
        {
          "output_type": "stream",
          "name": "stderr",
          "text": [
            "Some weights of the model checkpoint at cointegrated/LaBSE-en-ru were not used when initializing BertModel: ['cls.predictions.transform.dense.bias', 'cls.predictions.transform.LayerNorm.bias', 'cls.seq_relationship.bias', 'cls.predictions.transform.dense.weight', 'cls.predictions.decoder.weight', 'cls.predictions.bias', 'cls.seq_relationship.weight', 'cls.predictions.transform.LayerNorm.weight', 'cls.predictions.decoder.bias']\n",
            "- This IS expected if you are initializing BertModel from the checkpoint of a model trained on another task or with another architecture (e.g. initializing a BertForSequenceClassification model from a BertForPreTraining model).\n",
            "- This IS NOT expected if you are initializing BertModel from the checkpoint of a model that you expect to be exactly identical (initializing a BertForSequenceClassification model from a BertForSequenceClassification model).\n"
          ]
        },
        {
          "output_type": "stream",
          "name": "stdout",
          "text": [
            "tensor([[-0.0350, -0.0613, -0.0206,  ...,  0.0467, -0.0477, -0.0093],\n",
            "        [-0.0644, -0.0687, -0.0521,  ...,  0.0139, -0.0362, -0.0213],\n",
            "        [-0.0526, -0.0535, -0.0092,  ..., -0.0480,  0.0163, -0.0267],\n",
            "        [-0.0506, -0.0540,  0.0107,  ..., -0.0316, -0.0611, -0.0348]])\n"
          ]
        }
      ]
    },
    {
      "cell_type": "markdown",
      "source": [
        "Функция LaBSE"
      ],
      "metadata": {
        "id": "KW-W3DSUoEuT"
      }
    },
    {
      "cell_type": "code",
      "source": [
        "def LaBSE_embedding (sentences):    \n",
        "    encoded_input = tokenizer(sentences, padding=True, truncation=True, max_length=64, return_tensors='pt')\n",
        "    with torch.no_grad():\n",
        "        model_output = model(**encoded_input)\n",
        "    embeddings = model_output.pooler_output\n",
        "    embeddings = torch.nn.functional.normalize(embeddings)\n",
        "    print(embeddings)\n",
        "    return embeddings"
      ],
      "metadata": {
        "id": "4DXkGJsroDSR"
      },
      "execution_count": 7,
      "outputs": []
    },
    {
      "cell_type": "markdown",
      "metadata": {
        "id": "mCsCKV1qfgp1"
      },
      "source": [
        "## Читаем данные с файлов.\n",
        "\n"
      ]
    },
    {
      "cell_type": "markdown",
      "source": [
        "Данный файл взят из источника: https://github.com/SergeyParamonov/HabraData  \n",
        "Это один из парсеров Хабра.  \n",
        "Статьи датируются с 27 сентября по 7 апреля 2014 года."
      ],
      "metadata": {
        "id": "4tw838_xMW_7"
      }
    },
    {
      "cell_type": "code",
      "metadata": {
        "id": "4EHRTg1Uff3C"
      },
      "source": [
        "all_habr = pd.read_csv('/content/drive/My Drive/Colab Notebooks/news-recommender/all.csv')"
      ],
      "execution_count": 8,
      "outputs": []
    },
    {
      "cell_type": "code",
      "metadata": {
        "id": "L3Xw_cL5ISNs",
        "colab": {
          "base_uri": "https://localhost:8080/",
          "height": 206
        },
        "outputId": "baf3143d-a306-4abd-9bbf-ff629127f5f1"
      },
      "source": [
        "all_habr.sample(5)"
      ],
      "execution_count": 9,
      "outputs": [
        {
          "output_type": "execute_result",
          "data": {
            "text/plain": [
              "                id                                              title  \\\n",
              "8814   post_182072  VPN для обычных пользователей. Реальная необхо...   \n",
              "16079  post_206126  Обзор неттопа Foxconn nanoPC AT-7300 на процес...   \n",
              "1135   post_156447  Расчет рейтинга доверия в рублях РФ (и других ...   \n",
              "17419  post_210426    Удобное переключение wifi в режим точки доступа   \n",
              "5615   post_171411  Дайджест новостей из мира мобильной разработки...   \n",
              "\n",
              "           author   score   views   favors   isTutorial  \n",
              "8814    Maximus43      11   36651    175.0            0  \n",
              "16079    NeoForce      24   37587     82.0            0  \n",
              "1135          stt       3    4140      9.0            0  \n",
              "17419  conformist       5    9255     82.0            0  \n",
              "5615       DaryaZ       5   13665     36.0            0  "
            ],
            "text/html": [
              "\n",
              "  <div id=\"df-cdf48887-7199-4773-970f-670210b1fc52\">\n",
              "    <div class=\"colab-df-container\">\n",
              "      <div>\n",
              "<style scoped>\n",
              "    .dataframe tbody tr th:only-of-type {\n",
              "        vertical-align: middle;\n",
              "    }\n",
              "\n",
              "    .dataframe tbody tr th {\n",
              "        vertical-align: top;\n",
              "    }\n",
              "\n",
              "    .dataframe thead th {\n",
              "        text-align: right;\n",
              "    }\n",
              "</style>\n",
              "<table border=\"1\" class=\"dataframe\">\n",
              "  <thead>\n",
              "    <tr style=\"text-align: right;\">\n",
              "      <th></th>\n",
              "      <th>id</th>\n",
              "      <th>title</th>\n",
              "      <th>author</th>\n",
              "      <th>score</th>\n",
              "      <th>views</th>\n",
              "      <th>favors</th>\n",
              "      <th>isTutorial</th>\n",
              "    </tr>\n",
              "  </thead>\n",
              "  <tbody>\n",
              "    <tr>\n",
              "      <th>8814</th>\n",
              "      <td>post_182072</td>\n",
              "      <td>VPN для обычных пользователей. Реальная необхо...</td>\n",
              "      <td>Maximus43</td>\n",
              "      <td>11</td>\n",
              "      <td>36651</td>\n",
              "      <td>175.0</td>\n",
              "      <td>0</td>\n",
              "    </tr>\n",
              "    <tr>\n",
              "      <th>16079</th>\n",
              "      <td>post_206126</td>\n",
              "      <td>Обзор неттопа Foxconn nanoPC AT-7300 на процес...</td>\n",
              "      <td>NeoForce</td>\n",
              "      <td>24</td>\n",
              "      <td>37587</td>\n",
              "      <td>82.0</td>\n",
              "      <td>0</td>\n",
              "    </tr>\n",
              "    <tr>\n",
              "      <th>1135</th>\n",
              "      <td>post_156447</td>\n",
              "      <td>Расчет рейтинга доверия в рублях РФ (и других ...</td>\n",
              "      <td>stt</td>\n",
              "      <td>3</td>\n",
              "      <td>4140</td>\n",
              "      <td>9.0</td>\n",
              "      <td>0</td>\n",
              "    </tr>\n",
              "    <tr>\n",
              "      <th>17419</th>\n",
              "      <td>post_210426</td>\n",
              "      <td>Удобное переключение wifi в режим точки доступа</td>\n",
              "      <td>conformist</td>\n",
              "      <td>5</td>\n",
              "      <td>9255</td>\n",
              "      <td>82.0</td>\n",
              "      <td>0</td>\n",
              "    </tr>\n",
              "    <tr>\n",
              "      <th>5615</th>\n",
              "      <td>post_171411</td>\n",
              "      <td>Дайджест новостей из мира мобильной разработки...</td>\n",
              "      <td>DaryaZ</td>\n",
              "      <td>5</td>\n",
              "      <td>13665</td>\n",
              "      <td>36.0</td>\n",
              "      <td>0</td>\n",
              "    </tr>\n",
              "  </tbody>\n",
              "</table>\n",
              "</div>\n",
              "      <button class=\"colab-df-convert\" onclick=\"convertToInteractive('df-cdf48887-7199-4773-970f-670210b1fc52')\"\n",
              "              title=\"Convert this dataframe to an interactive table.\"\n",
              "              style=\"display:none;\">\n",
              "        \n",
              "  <svg xmlns=\"http://www.w3.org/2000/svg\" height=\"24px\"viewBox=\"0 0 24 24\"\n",
              "       width=\"24px\">\n",
              "    <path d=\"M0 0h24v24H0V0z\" fill=\"none\"/>\n",
              "    <path d=\"M18.56 5.44l.94 2.06.94-2.06 2.06-.94-2.06-.94-.94-2.06-.94 2.06-2.06.94zm-11 1L8.5 8.5l.94-2.06 2.06-.94-2.06-.94L8.5 2.5l-.94 2.06-2.06.94zm10 10l.94 2.06.94-2.06 2.06-.94-2.06-.94-.94-2.06-.94 2.06-2.06.94z\"/><path d=\"M17.41 7.96l-1.37-1.37c-.4-.4-.92-.59-1.43-.59-.52 0-1.04.2-1.43.59L10.3 9.45l-7.72 7.72c-.78.78-.78 2.05 0 2.83L4 21.41c.39.39.9.59 1.41.59.51 0 1.02-.2 1.41-.59l7.78-7.78 2.81-2.81c.8-.78.8-2.07 0-2.86zM5.41 20L4 18.59l7.72-7.72 1.47 1.35L5.41 20z\"/>\n",
              "  </svg>\n",
              "      </button>\n",
              "      \n",
              "  <style>\n",
              "    .colab-df-container {\n",
              "      display:flex;\n",
              "      flex-wrap:wrap;\n",
              "      gap: 12px;\n",
              "    }\n",
              "\n",
              "    .colab-df-convert {\n",
              "      background-color: #E8F0FE;\n",
              "      border: none;\n",
              "      border-radius: 50%;\n",
              "      cursor: pointer;\n",
              "      display: none;\n",
              "      fill: #1967D2;\n",
              "      height: 32px;\n",
              "      padding: 0 0 0 0;\n",
              "      width: 32px;\n",
              "    }\n",
              "\n",
              "    .colab-df-convert:hover {\n",
              "      background-color: #E2EBFA;\n",
              "      box-shadow: 0px 1px 2px rgba(60, 64, 67, 0.3), 0px 1px 3px 1px rgba(60, 64, 67, 0.15);\n",
              "      fill: #174EA6;\n",
              "    }\n",
              "\n",
              "    [theme=dark] .colab-df-convert {\n",
              "      background-color: #3B4455;\n",
              "      fill: #D2E3FC;\n",
              "    }\n",
              "\n",
              "    [theme=dark] .colab-df-convert:hover {\n",
              "      background-color: #434B5C;\n",
              "      box-shadow: 0px 1px 3px 1px rgba(0, 0, 0, 0.15);\n",
              "      filter: drop-shadow(0px 1px 2px rgba(0, 0, 0, 0.3));\n",
              "      fill: #FFFFFF;\n",
              "    }\n",
              "  </style>\n",
              "\n",
              "      <script>\n",
              "        const buttonEl =\n",
              "          document.querySelector('#df-cdf48887-7199-4773-970f-670210b1fc52 button.colab-df-convert');\n",
              "        buttonEl.style.display =\n",
              "          google.colab.kernel.accessAllowed ? 'block' : 'none';\n",
              "\n",
              "        async function convertToInteractive(key) {\n",
              "          const element = document.querySelector('#df-cdf48887-7199-4773-970f-670210b1fc52');\n",
              "          const dataTable =\n",
              "            await google.colab.kernel.invokeFunction('convertToInteractive',\n",
              "                                                     [key], {});\n",
              "          if (!dataTable) return;\n",
              "\n",
              "          const docLinkHtml = 'Like what you see? Visit the ' +\n",
              "            '<a target=\"_blank\" href=https://colab.research.google.com/notebooks/data_table.ipynb>data table notebook</a>'\n",
              "            + ' to learn more about interactive tables.';\n",
              "          element.innerHTML = '';\n",
              "          dataTable['output_type'] = 'display_data';\n",
              "          await google.colab.output.renderOutput(dataTable, element);\n",
              "          const docLink = document.createElement('div');\n",
              "          docLink.innerHTML = docLinkHtml;\n",
              "          element.appendChild(docLink);\n",
              "        }\n",
              "      </script>\n",
              "    </div>\n",
              "  </div>\n",
              "  "
            ]
          },
          "metadata": {},
          "execution_count": 9
        }
      ]
    },
    {
      "cell_type": "code",
      "source": [
        "all_habr.info()"
      ],
      "metadata": {
        "colab": {
          "base_uri": "https://localhost:8080/"
        },
        "id": "dy9AfmI7u3aw",
        "outputId": "03e46e32-94f8-4c32-c2bd-3f1aaa3ee2ab"
      },
      "execution_count": 10,
      "outputs": [
        {
          "output_type": "stream",
          "name": "stdout",
          "text": [
            "<class 'pandas.core.frame.DataFrame'>\n",
            "RangeIndex: 19851 entries, 0 to 19850\n",
            "Data columns (total 7 columns):\n",
            " #   Column       Non-Null Count  Dtype  \n",
            "---  ------       --------------  -----  \n",
            " 0   id           19851 non-null  object \n",
            " 1    title       19851 non-null  object \n",
            " 2    author      19851 non-null  object \n",
            " 3    score       19851 non-null  int64  \n",
            " 4    views       19851 non-null  int64  \n",
            " 5    favors      19773 non-null  float64\n",
            " 6    isTutorial  19851 non-null  int64  \n",
            "dtypes: float64(1), int64(3), object(3)\n",
            "memory usage: 1.1+ MB\n"
          ]
        }
      ]
    },
    {
      "cell_type": "code",
      "source": [
        "all_habr.columns"
      ],
      "metadata": {
        "colab": {
          "base_uri": "https://localhost:8080/"
        },
        "id": "PqheHB2owIQf",
        "outputId": "3ef03214-f9f3-42fa-e12c-c1bd1c4cff53"
      },
      "execution_count": 11,
      "outputs": [
        {
          "output_type": "execute_result",
          "data": {
            "text/plain": [
              "Index(['id', ' title', ' author', ' score', ' views', ' favors',\n",
              "       ' isTutorial'],\n",
              "      dtype='object')"
            ]
          },
          "metadata": {},
          "execution_count": 11
        }
      ]
    },
    {
      "cell_type": "code",
      "source": [
        "all_habrtittle = all_habr[' title'].tolist()"
      ],
      "metadata": {
        "id": "lXKQCLHXu3es"
      },
      "execution_count": 12,
      "outputs": []
    },
    {
      "cell_type": "code",
      "source": [
        "import random"
      ],
      "metadata": {
        "id": "09yy1dCyA5SH"
      },
      "execution_count": 13,
      "outputs": []
    },
    {
      "cell_type": "code",
      "source": [
        "all_habrsample1k = random.sample(all_habrtittle, 1000)"
      ],
      "metadata": {
        "id": "9dEw6R_1ASA_"
      },
      "execution_count": 14,
      "outputs": []
    },
    {
      "cell_type": "code",
      "source": [
        "len(all_habrsample1k)"
      ],
      "metadata": {
        "colab": {
          "base_uri": "https://localhost:8080/"
        },
        "id": "TxWLs3yDBDne",
        "outputId": "04631264-5709-4e2f-e946-5163f8178cfc"
      },
      "execution_count": 17,
      "outputs": [
        {
          "output_type": "execute_result",
          "data": {
            "text/plain": [
              "1000"
            ]
          },
          "metadata": {},
          "execution_count": 17
        }
      ]
    },
    {
      "cell_type": "code",
      "source": [
        "embeddings_ahs1k = LaBSE_embedding(all_habrsample1k)"
      ],
      "metadata": {
        "colab": {
          "base_uri": "https://localhost:8080/"
        },
        "id": "BzwQwR2qw3DE",
        "outputId": "7b62530f-314e-44e9-cea8-4cb8b6ee030e"
      },
      "execution_count": 18,
      "outputs": [
        {
          "output_type": "stream",
          "name": "stdout",
          "text": [
            "tensor([[ 0.0303, -0.0349,  0.0105,  ..., -0.0698, -0.0136, -0.0134],\n",
            "        [-0.0486, -0.0423, -0.0153,  ..., -0.0314, -0.0331, -0.0319],\n",
            "        [ 0.0098, -0.0572,  0.0220,  ..., -0.0412, -0.0143,  0.0583],\n",
            "        ...,\n",
            "        [-0.0223, -0.0415, -0.0246,  ..., -0.0564, -0.0704, -0.0648],\n",
            "        [-0.0262, -0.0242, -0.0606,  ...,  0.0099, -0.0514,  0.0019],\n",
            "        [ 0.0042, -0.0338,  0.0027,  ...,  0.0406, -0.0520, -0.0314]])\n"
          ]
        }
      ]
    },
    {
      "cell_type": "code",
      "source": [
        "from sklearn.metrics.pairwise import linear_kernel, cosine_similarity"
      ],
      "metadata": {
        "id": "h7Ah41GQ-NM8"
      },
      "execution_count": 19,
      "outputs": []
    },
    {
      "cell_type": "code",
      "source": [
        "cosine_similarities = cosine_similarity(embeddings_ahs1k)"
      ],
      "metadata": {
        "id": "MBX8uFDREdoY"
      },
      "execution_count": 20,
      "outputs": []
    },
    {
      "cell_type": "code",
      "source": [
        "cosine_similarities"
      ],
      "metadata": {
        "colab": {
          "base_uri": "https://localhost:8080/"
        },
        "id": "-nkpteEEEneR",
        "outputId": "318765d7-c81f-4e8f-9533-c2114bb11877"
      },
      "execution_count": 23,
      "outputs": [
        {
          "output_type": "execute_result",
          "data": {
            "text/plain": [
              "array([[ 1.        ,  0.23182496,  0.2509137 , ...,  0.2567516 ,\n",
              "         0.03558466,  0.03707391],\n",
              "       [ 0.23182496,  0.9999999 ,  0.24163592, ...,  0.34509054,\n",
              "         0.09584635,  0.05486733],\n",
              "       [ 0.2509137 ,  0.24163592,  1.0000001 , ...,  0.34489265,\n",
              "         0.07753377, -0.0014026 ],\n",
              "       ...,\n",
              "       [ 0.2567516 ,  0.34509054,  0.34489265, ...,  1.0000001 ,\n",
              "         0.18156129,  0.15572894],\n",
              "       [ 0.03558466,  0.09584635,  0.07753377, ...,  0.18156129,\n",
              "         0.9999999 ,  0.33038604],\n",
              "       [ 0.03707391,  0.05486733, -0.0014026 , ...,  0.15572894,\n",
              "         0.33038604,  1.        ]], dtype=float32)"
            ]
          },
          "metadata": {},
          "execution_count": 23
        }
      ]
    },
    {
      "cell_type": "code",
      "source": [
        "all_habrsample1k"
      ],
      "metadata": {
        "id": "E9zuS0L-GFGz"
      },
      "execution_count": null,
      "outputs": []
    },
    {
      "cell_type": "code",
      "source": [
        "t = np.random.randint(1000)\n",
        "t"
      ],
      "metadata": {
        "colab": {
          "base_uri": "https://localhost:8080/"
        },
        "id": "9EDTsvZjHQ6-",
        "outputId": "b8d4dfc3-fb01-4916-8bfd-3733ba7bb166"
      },
      "execution_count": 31,
      "outputs": [
        {
          "output_type": "execute_result",
          "data": {
            "text/plain": [
              "510"
            ]
          },
          "metadata": {},
          "execution_count": 31
        }
      ]
    },
    {
      "cell_type": "code",
      "source": [
        "similar_indices = cosine_similarities[t].argsort()[:-10:-1]"
      ],
      "metadata": {
        "id": "kHl9YLm8H2wO"
      },
      "execution_count": 41,
      "outputs": []
    },
    {
      "cell_type": "code",
      "source": [
        ""
      ],
      "metadata": {
        "id": "VwjyZZfQKfh7"
      },
      "execution_count": null,
      "outputs": []
    },
    {
      "cell_type": "code",
      "source": [
        "for i in range(len(similar_indices)):\n",
        "    print(all_habrsample1k[similar_indices[i]])"
      ],
      "metadata": {
        "colab": {
          "base_uri": "https://localhost:8080/"
        },
        "id": "7Urtx4f9J1Mq",
        "outputId": "3e3a3d58-5a12-421e-92e9-68f1abcafeca"
      },
      "execution_count": 44,
      "outputs": [
        {
          "output_type": "stream",
          "name": "stdout",
          "text": [
            "Паттерны для новичков: MVC vs MVP vs MVVM\n",
            "Настройка шаблонов ASP.NET MVC 5 Scaffolding в Visual Studio 2013\n",
            "Видео: Новые предложения по разработке и тестированию ПО для подписчиков MSDN и другие новости Windows Azure\n",
            "Новые бесплатные курсы виртуальной академии Microsoft Virtual Academy\n",
            "Попытка развенчания мифов об OpenVZ comma  или VPS на OpenVZ vs Xen/KVM/Hyper-V/etc\n",
            "Использование функционала фреймворка MVC4 для авторизации пользователей и использование ролевой модели доступа к сайту\n",
            "Виджеты сторонних сайтов: «за» и «против»\n",
            "Понимание Html-кода comma  сгенерированного ненавязчивой валидацией в ASP.Net MVC\n",
            "AVCONV — конвертация видеофайлов для тега video HTML5 и наложение ватермарка\n"
          ]
        }
      ]
    },
    {
      "cell_type": "code",
      "source": [
        ""
      ],
      "metadata": {
        "id": "Wdm1mEy7K2BK"
      },
      "execution_count": null,
      "outputs": []
    },
    {
      "cell_type": "code",
      "source": [
        "t = np.random.randint(1000)\n",
        "t"
      ],
      "metadata": {
        "colab": {
          "base_uri": "https://localhost:8080/"
        },
        "id": "ZYCsdC0bK2Nl",
        "outputId": "9abc7ee1-bc73-4471-cfe7-981b20bb348d"
      },
      "execution_count": 45,
      "outputs": [
        {
          "output_type": "execute_result",
          "data": {
            "text/plain": [
              "8"
            ]
          },
          "metadata": {},
          "execution_count": 45
        }
      ]
    },
    {
      "cell_type": "code",
      "source": [
        "similar_indices = cosine_similarities[t].argsort()[:-10:-1]"
      ],
      "metadata": {
        "id": "MQoTXIJzJ54w"
      },
      "execution_count": 46,
      "outputs": []
    },
    {
      "cell_type": "code",
      "source": [
        "for i in range(len(similar_indices)):\n",
        "    print(all_habrsample1k[similar_indices[i]])"
      ],
      "metadata": {
        "colab": {
          "base_uri": "https://localhost:8080/"
        },
        "id": "YJ9I5oOcLOKn",
        "outputId": "7266e131-5899-41c8-8253-5f0f87fbc009"
      },
      "execution_count": 47,
      "outputs": [
        {
          "output_type": "stream",
          "name": "stdout",
          "text": [
            "Хакеры получили доступ к базе данных OVH.com\n",
            "Умельцы получили доступ к ПО Google Chromecast\n",
            "Статистика ОС на hh.ru\n",
            "Неизвестный хакер измерил Всемирную паутину\n",
            "Использование функционала фреймворка MVC4 для авторизации пользователей и использование ролевой модели доступа к сайту\n",
            "Microsoft начали охоту за ZeroAccess\n",
            "Покупаем на taobao.com\n",
            "Поднимаем контроллер домена на Ubuntu Server\n",
            "Пираты против правообладателей: взгляд инсайдера\n"
          ]
        }
      ]
    }
  ]
}